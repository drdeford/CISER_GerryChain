{
 "cells": [
  {
   "cell_type": "markdown",
   "metadata": {},
   "source": [
    "# Introduction\n",
    "The basic objects of a Jupyter notebook are \"cells\" or independent blocks of code. The cells in a notebook come in two types: text based cells like this one and ones that evaluate python code like the one below. You can edit the entries of a cell by clicking with your mouse and evaluate the contents by either holding the shift key and hitting Enter or clicking the run button at the top of the screen. The output of the code block will display below the cell while text based cells like this are processed with Markdown which creates nicely formatted outputs. You can find more description of the Markdown syntax options [at this link](https://jupyter-notebook.readthedocs.io/en/stable/examples/Notebook/Working%20With%20Markdown%20Cells.html). Here is a new sentence.\n",
    "\n",
    "The menus at the top of the screen offer many helpful options for working with notebooks. There are also keyboard shortcuts for almost all of the common operations that we will use. You can view these by clicking the keyboard icon to the right of the toolbar at the top of the screen. Another nice feature of notebooks is that they can be exported to a variety of flexible formats. Using File -> Download as -> HTML will export a webpage that can be opened in your browser containing all of the content of the notebook.\n",
    "\n",
    "**Assignment:** Try adding two cells below, one for markdown text and another for python code. In both cells, type print(\"Hello!\"). What happens?"
   ]
  },
  {
   "cell_type": "markdown",
   "metadata": {},
   "source": [
    "I just made my first new cell! :) *bold text* **italicize text**"
   ]
  },
  {
   "cell_type": "code",
   "execution_count": 1,
   "metadata": {},
   "outputs": [
    {
     "name": "stdout",
     "output_type": "stream",
     "text": [
      "Hello, world!\n"
     ]
    }
   ],
   "source": [
    "print(\"Hello, world!\")"
   ]
  },
  {
   "cell_type": "markdown",
   "metadata": {},
   "source": [
    "print(\"Hello, world!\")"
   ]
  },
  {
   "cell_type": "markdown",
   "metadata": {},
   "source": [
    "As you have probably guessed, the `print` command tells python to display the text inside the parentheses to the screen. This is our first example of a function, and one that we will use a lot throughout the course. "
   ]
  },
  {
   "cell_type": "markdown",
   "metadata": {},
   "source": [
    "Python cells can also perform standard arithmetic operations, like a calculator. "
   ]
  },
  {
   "cell_type": "markdown",
   "metadata": {},
   "source": [
    "**Assignment:** Formulate a arithmetic expression that returns an answer of 6, using each of +, -, *, / exactly once.   "
   ]
  },
  {
   "cell_type": "code",
   "execution_count": 2,
   "metadata": {},
   "outputs": [
    {
     "data": {
      "text/plain": [
       "3"
      ]
     },
     "execution_count": 2,
     "metadata": {},
     "output_type": "execute_result"
    }
   ],
   "source": [
    "1+2"
   ]
  },
  {
   "cell_type": "markdown",
   "metadata": {},
   "source": [
    "# Variables\n",
    "\n",
    "Variables are containers that store data or other Python objects. For now, it is probably helpful to think of a variable as just giving a new name to an object, that we can use to refer to it later on. In Python, it is very easy to create new variables (equivalently, given new names to values) with the equals sign. We put the name of the variable on the left hand side of the equals sign and the value we want to store in that variable on the right hand side. In Jupyter notebooks, variables persist between cells once they've been evaluated. \n",
    "\n",
    "**Assignment:** Try changing the value of `a` in the cell below and then run the next cell to see that the value has changed. \n"
   ]
  },
  {
   "cell_type": "code",
   "execution_count": 3,
   "metadata": {},
   "outputs": [],
   "source": [
    "a = 5"
   ]
  },
  {
   "cell_type": "code",
   "execution_count": 4,
   "metadata": {},
   "outputs": [
    {
     "data": {
      "text/plain": [
       "7"
      ]
     },
     "execution_count": 4,
     "metadata": {},
     "output_type": "execute_result"
    }
   ],
   "source": [
    "a+2"
   ]
  },
  {
   "cell_type": "markdown",
   "metadata": {},
   "source": [
    "Cells can also contain multiple lines of code at once (we'll see a lot of this in other examples today). The lines are evaluated sequentially from top to bottom. In the notebook, the output only shows the output of the last line (oversimplification) but we can display the results of intermediate steps using the print command, as in the example below. \n",
    "\n",
    "**Assignment:** Input your favorite number and add an additional print statement so that the result of each step of the calculation is displayed. "
   ]
  },
  {
   "cell_type": "code",
   "execution_count": 5,
   "metadata": {},
   "outputs": [
    {
     "name": "stdout",
     "output_type": "stream",
     "text": [
      "60\n"
     ]
    },
    {
     "data": {
      "text/plain": [
       "66"
      ]
     },
     "execution_count": 5,
     "metadata": {},
     "output_type": "execute_result"
    }
   ],
   "source": [
    "my_favorite_number = 12\n",
    "my_favorite_number = my_favorite_number * a\n",
    "print(my_favorite_number)\n",
    "my_favorite_number = my_favorite_number + 6\n",
    "my_favorite_number"
   ]
  },
  {
   "cell_type": "markdown",
   "metadata": {},
   "source": [
    "# Comparisons\n",
    "\n",
    "Comparisons between numbers, variables, and other python objects use syntax that will hopefully feel fairly natural to mathematicians. Equality is checked with two equal signs and inequality is checked with an exclamation mark followed by an equal sign. "
   ]
  },
  {
   "cell_type": "code",
   "execution_count": 6,
   "metadata": {},
   "outputs": [
    {
     "name": "stdout",
     "output_type": "stream",
     "text": [
      "True\n",
      "False\n",
      "True\n",
      "True\n",
      "False\n",
      "True\n"
     ]
    }
   ],
   "source": [
    "print(1 == 1)\n",
    "print(1 == 2)\n",
    "print(1 != 2)\n",
    "print(-1 < 4)\n",
    "print(10 > 11)\n",
    "print(a<=7)"
   ]
  },
  {
   "cell_type": "markdown",
   "metadata": {},
   "source": [
    "# Data Types\n",
    "Python provides several standard data types in addition to the integers (and perhaps real numbers, depending on how exciting your answer to the assignment was...) that we have already encountered.  The outputs of the comparison examples above are Boolean values. In addition to these, we will also need to make use of strings, which are denoted with either single or double quotes in Python. "
   ]
  },
  {
   "cell_type": "code",
   "execution_count": 7,
   "metadata": {},
   "outputs": [
    {
     "data": {
      "text/plain": [
       "'This is a string'"
      ]
     },
     "execution_count": 7,
     "metadata": {},
     "output_type": "execute_result"
    }
   ],
   "source": [
    "'This is a string'"
   ]
  },
  {
   "cell_type": "code",
   "execution_count": 8,
   "metadata": {},
   "outputs": [
    {
     "data": {
      "text/plain": [
       "False"
      ]
     },
     "execution_count": 8,
     "metadata": {},
     "output_type": "execute_result"
    }
   ],
   "source": [
    "\"1\" == 1"
   ]
  },
  {
   "cell_type": "code",
   "execution_count": 9,
   "metadata": {},
   "outputs": [
    {
     "data": {
      "text/plain": [
       "True"
      ]
     },
     "execution_count": 9,
     "metadata": {},
     "output_type": "execute_result"
    }
   ],
   "source": [
    "'This is a string' == \"This is a string\""
   ]
  },
  {
   "cell_type": "markdown",
   "metadata": {},
   "source": [
    "# Lists and Dictionaries\n",
    "\n",
    "Python also provides several standard data structures that we will encounter throughout the day. Lists and tuples are created with square [] and rounded () brackets respectively and their elements can be accessed with zero-indexed integers, starting from the left. Sets are encased in {} brackets and are unordered. Dictionaries, which are fundamental to the networkx Graph object are also created within {} brackets but the entries consists of ordered pairs separated by colons. The element of the pair to the left of the colon is the key and the element to the right is the corresponding value, which can either be a fixed quantity or a variable. Dictionary elements are accessed using [] brackets, with the key entered between the brackets returning the corresponding element. "
   ]
  },
  {
   "cell_type": "code",
   "execution_count": 10,
   "metadata": {},
   "outputs": [
    {
     "name": "stdout",
     "output_type": "stream",
     "text": [
      "9\n",
      "2\n"
     ]
    }
   ],
   "source": [
    "my_first_list = [1,2,3,4,9,-4,12,4+10]\n",
    "print(my_first_list[4])\n",
    "print(my_first_list[1])"
   ]
  },
  {
   "cell_type": "code",
   "execution_count": 11,
   "metadata": {},
   "outputs": [],
   "source": [
    "my_first_dictionary = {\"Name\": \"Daryl\", \"Favorite Number\": my_favorite_number, 2:\"Not my favorite\", 7:3}"
   ]
  },
  {
   "cell_type": "code",
   "execution_count": 12,
   "metadata": {},
   "outputs": [
    {
     "name": "stdout",
     "output_type": "stream",
     "text": [
      "Daryl\n",
      "66\n",
      "Not my favorite\n",
      "3\n"
     ]
    }
   ],
   "source": [
    "print(my_first_dictionary['Name'])\n",
    "print(my_first_dictionary['Favorite Number'])\n",
    "print(my_first_dictionary[2])\n",
    "print(my_first_dictionary[7])\n"
   ]
  },
  {
   "cell_type": "markdown",
   "metadata": {},
   "source": [
    "# Errors\n",
    "\n",
    "Errors are a natural part of programming and not something to be worried about :) If you enter something that python doesn't know how to process correctly, it will return some text like the examples below. Since we haven't assigned `b` as a variable yet, it doesn't know what value to return. Similarly, python doesn't know how to combine a string and an integer with the `+` sign (although the last example shows that it views multiplication by an integer as repeated self-concatenation. What happens if you change 3 to 3.1?). The error text is supposed to be helpful in determining what went wrong but nothing is perfect. There are lots of different error types and sometimes it takes some iteration to figure out what went wrong and how to fix it. You can re-evaluate the cell after making changes to try and see if the error is fixed. \n",
    "\n",
    "**Assignment:** Modify the cells below so that they don't return errors when evaluated. "
   ]
  },
  {
   "cell_type": "code",
   "execution_count": 13,
   "metadata": {},
   "outputs": [
    {
     "ename": "NameError",
     "evalue": "name 'b' is not defined",
     "output_type": "error",
     "traceback": [
      "\u001b[1;31m---------------------------------------------------------------------------\u001b[0m",
      "\u001b[1;31mNameError\u001b[0m                                 Traceback (most recent call last)",
      "\u001b[1;32m~\\AppData\\Local\\Temp/ipykernel_6864/3523587081.py\u001b[0m in \u001b[0;36m<module>\u001b[1;34m\u001b[0m\n\u001b[1;32m----> 1\u001b[1;33m \u001b[0mb\u001b[0m\u001b[1;33m+\u001b[0m\u001b[1;36m2\u001b[0m\u001b[1;33m\u001b[0m\u001b[1;33m\u001b[0m\u001b[0m\n\u001b[0m",
      "\u001b[1;31mNameError\u001b[0m: name 'b' is not defined"
     ]
    }
   ],
   "source": [
    "b+2"
   ]
  },
  {
   "cell_type": "code",
   "execution_count": 14,
   "metadata": {},
   "outputs": [
    {
     "ename": "TypeError",
     "evalue": "can only concatenate str (not \"int\") to str",
     "output_type": "error",
     "traceback": [
      "\u001b[1;31m---------------------------------------------------------------------------\u001b[0m",
      "\u001b[1;31mTypeError\u001b[0m                                 Traceback (most recent call last)",
      "\u001b[1;32m~\\AppData\\Local\\Temp/ipykernel_6864/1149079144.py\u001b[0m in \u001b[0;36m<module>\u001b[1;34m\u001b[0m\n\u001b[1;32m----> 1\u001b[1;33m \u001b[1;34m\"a\"\u001b[0m \u001b[1;33m+\u001b[0m \u001b[1;36m3\u001b[0m\u001b[1;33m\u001b[0m\u001b[1;33m\u001b[0m\u001b[0m\n\u001b[0m",
      "\u001b[1;31mTypeError\u001b[0m: can only concatenate str (not \"int\") to str"
     ]
    }
   ],
   "source": [
    "\"a\" + 3"
   ]
  },
  {
   "cell_type": "code",
   "execution_count": 15,
   "metadata": {},
   "outputs": [
    {
     "data": {
      "text/plain": [
       "'AAA'"
      ]
     },
     "execution_count": 15,
     "metadata": {},
     "output_type": "execute_result"
    }
   ],
   "source": [
    "\"A\" * 3"
   ]
  },
  {
   "cell_type": "markdown",
   "metadata": {},
   "source": [
    "Not everything that we will need to study networks is contained in the main Python language. Instead, we will need to import some additional packages (that were included automatically if you followed the installation directions from the .pdf). We can import entire packages or individual functions. Once an import occurs in the notebook, the functions will be available in the rest of the cells, so each import only needs to occur once. The standard approach is to include the imports in a separate cell at the top of the notebook. There are also standarad abbreviations that are used for many of the most common packages, as we will see nx is usually used to abbreviate networkx. \n",
    "\n",
    "The example below imports a function from the random package to generate random integers and a plotting package to make a line plot. "
   ]
  },
  {
   "cell_type": "code",
   "execution_count": 16,
   "metadata": {},
   "outputs": [],
   "source": [
    "from random import randint\n",
    "import matplotlib.pyplot as plt"
   ]
  },
  {
   "cell_type": "code",
   "execution_count": 17,
   "metadata": {},
   "outputs": [
    {
     "data": {
      "text/plain": [
       "9"
      ]
     },
     "execution_count": 17,
     "metadata": {},
     "output_type": "execute_result"
    }
   ],
   "source": [
    "randint(0,20)"
   ]
  },
  {
   "cell_type": "code",
   "execution_count": 18,
   "metadata": {},
   "outputs": [
    {
     "data": {
      "text/plain": [
       "[<matplotlib.lines.Line2D at 0x17932e437c0>]"
      ]
     },
     "execution_count": 18,
     "metadata": {},
     "output_type": "execute_result"
    },
    {
     "data": {
      "image/png": "[encoded data removed]",
      "text/plain": [
       "<Figure size 432x288 with 1 Axes>"
      ]
     },
     "metadata": {
      "needs_background": "light"
     },
     "output_type": "display_data"
    }
   ],
   "source": [
    "plt.plot(my_first_list)"
   ]
  },
  {
   "cell_type": "markdown",
   "metadata": {},
   "source": [
    "For more information about the basics of Jupyter notebooks, the documentation provided here: https://problemsolvingwithpython.com/02-Jupyter-Notebooks/02.00-Introduction/ is a nice place for some further reading. In terms of using notebooks as development environments for full-scale projects the research community is a little divided but the following two keynote speeches from JupyterCon cover a lot of the key points: \n",
    "* I Don't Like Notebooks (Joel Grus) https://www.youtube.com/watch?v=7jiPeIFXb6U\n",
    "* I like Notebooks (Jeremy Howard) https://www.youtube.com/watch?v=9Q6sLbz37gk&feature=emb_logo"
   ]
  },
  {
   "cell_type": "code",
   "execution_count": null,
   "metadata": {},
   "outputs": [],
   "source": []
  },
  {
   "cell_type": "code",
   "execution_count": null,
   "metadata": {},
   "outputs": [],
   "source": []
  }
 ],
 "metadata": {
  "kernelspec": {
   "display_name": "Python 3 (ipykernel)",
   "language": "python",
   "name": "python3"
  },
  "language_info": {
   "codemirror_mode": {
    "name": "ipython",
    "version": 3
   },
   "file_extension": ".py",
   "mimetype": "text/x-python",
   "name": "python",
   "nbconvert_exporter": "python",
   "pygments_lexer": "ipython3",
   "version": "3.11.4"
  }
 },
 "nbformat": 4,
 "nbformat_minor": 2
}
